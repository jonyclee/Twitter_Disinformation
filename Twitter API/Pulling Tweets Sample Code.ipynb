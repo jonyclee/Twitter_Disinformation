{
 "cells": [
  {
   "cell_type": "markdown",
   "metadata": {},
   "source": [
    "# Twitter Disinformation\n",
    "\n",
    "Indiana University <br/>\n",
    "Data Science in Practice <br/>\n",
    "Spring 2020 <br/>\n",
    "\n",
    "## Tweepy Set-up"
   ]
  },
  {
   "cell_type": "code",
   "execution_count": 1,
   "metadata": {},
   "outputs": [],
   "source": [
    "# Dependencies\n",
    "import tweepy\n",
    "import json"
   ]
  },
  {
   "cell_type": "code",
   "execution_count": 2,
   "metadata": {},
   "outputs": [],
   "source": [
    "# Twitter API Keys\n",
    "consumer_key = \"\"\n",
    "consumer_secret = \"\"\n",
    "access_token = \"\"\n",
    "access_token_secret = \"\""
   ]
  },
  {
   "cell_type": "code",
   "execution_count": 3,
   "metadata": {},
   "outputs": [],
   "source": [
    "# Setup Tweepy API Authentication\n",
    "auth = tweepy.OAuthHandler(consumer_key, consumer_secret)\n",
    "auth.set_access_token(access_token, access_token_secret)\n",
    "api = tweepy.API(auth, parser=tweepy.parsers.JSONParser())"
   ]
  },
  {
   "cell_type": "markdown",
   "metadata": {},
   "source": [
    "## Using Twitter API to pull Tweets"
   ]
  },
  {
   "cell_type": "code",
   "execution_count": 4,
   "metadata": {},
   "outputs": [],
   "source": [
    "# Search Key Terms - \"word1 OR word2 OR ...\"\n",
    "search_term = \"комендант OR бишкек OR коронавирус OR чп OR карантин OR нетхудибезбобра OR HackCoronaForKG\""
   ]
  },
  {
   "cell_type": "code",
   "execution_count": 5,
   "metadata": {},
   "outputs": [],
   "source": [
    "# Update geocode for area of interest\n",
    "geo=\"42.882004,74.582748,75mi\" # This is currently a 75mi radius around Bishkek, Kyrgyzstan"
   ]
  },
  {
   "cell_type": "code",
   "execution_count": 6,
   "metadata": {},
   "outputs": [],
   "source": [
    "# Update count as needed\n",
    "count=100"
   ]
  },
  {
   "cell_type": "code",
   "execution_count": 7,
   "metadata": {},
   "outputs": [],
   "source": [
    "# Function to Pull tweets\n",
    "public_tweets = api.search(search_term, geocode=geo, tweet_mode='extended', count=count)"
   ]
  },
  {
   "cell_type": "code",
   "execution_count": 8,
   "metadata": {},
   "outputs": [
    {
     "data": {
      "text/plain": [
       "{'created_at': 'Sat Apr 04 04:25:20 +0000 2020',\n",
       " 'id': 1246292747654488064,\n",
       " 'id_str': '1246292747654488064',\n",
       " 'full_text': 'Как коронавирус меняет судьбы людей — история кыргызстанцев https://t.co/rB8cf3u0NU https://t.co/YweT9cz4v3',\n",
       " 'truncated': False,\n",
       " 'display_text_range': [0, 83],\n",
       " 'entities': {'hashtags': [],\n",
       "  'symbols': [],\n",
       "  'user_mentions': [],\n",
       "  'urls': [{'url': 'https://t.co/rB8cf3u0NU',\n",
       "    'expanded_url': 'http://elgezit.kg/2020/04/04/kak-koronavirus-menyaet-sudby-lyudej-istoriya-kyrgyzstantsev/',\n",
       "    'display_url': 'elgezit.kg/2020/04/04/kak…',\n",
       "    'indices': [60, 83]}],\n",
       "  'media': [{'id': 1246292740058550273,\n",
       "    'id_str': '1246292740058550273',\n",
       "    'indices': [84, 107],\n",
       "    'media_url': 'http://pbs.twimg.com/media/EUu4pNlWkAELQXh.jpg',\n",
       "    'media_url_https': 'https://pbs.twimg.com/media/EUu4pNlWkAELQXh.jpg',\n",
       "    'url': 'https://t.co/YweT9cz4v3',\n",
       "    'display_url': 'pic.twitter.com/YweT9cz4v3',\n",
       "    'expanded_url': 'https://twitter.com/elgezit/status/1246292747654488064/photo/1',\n",
       "    'type': 'photo',\n",
       "    'sizes': {'thumb': {'w': 150, 'h': 150, 'resize': 'crop'},\n",
       "     'large': {'w': 1280, 'h': 720, 'resize': 'fit'},\n",
       "     'medium': {'w': 1200, 'h': 675, 'resize': 'fit'},\n",
       "     'small': {'w': 680, 'h': 383, 'resize': 'fit'}}}]},\n",
       " 'extended_entities': {'media': [{'id': 1246292740058550273,\n",
       "    'id_str': '1246292740058550273',\n",
       "    'indices': [84, 107],\n",
       "    'media_url': 'http://pbs.twimg.com/media/EUu4pNlWkAELQXh.jpg',\n",
       "    'media_url_https': 'https://pbs.twimg.com/media/EUu4pNlWkAELQXh.jpg',\n",
       "    'url': 'https://t.co/YweT9cz4v3',\n",
       "    'display_url': 'pic.twitter.com/YweT9cz4v3',\n",
       "    'expanded_url': 'https://twitter.com/elgezit/status/1246292747654488064/photo/1',\n",
       "    'type': 'photo',\n",
       "    'sizes': {'thumb': {'w': 150, 'h': 150, 'resize': 'crop'},\n",
       "     'large': {'w': 1280, 'h': 720, 'resize': 'fit'},\n",
       "     'medium': {'w': 1200, 'h': 675, 'resize': 'fit'},\n",
       "     'small': {'w': 680, 'h': 383, 'resize': 'fit'}}}]},\n",
       " 'metadata': {'result_type': 'recent', 'iso_language_code': 'ru'},\n",
       " 'source': '<a href=\"https://mobile.twitter.com\" rel=\"nofollow\">Twitter Web App</a>',\n",
       " 'in_reply_to_status_id': None,\n",
       " 'in_reply_to_status_id_str': None,\n",
       " 'in_reply_to_user_id': None,\n",
       " 'in_reply_to_user_id_str': None,\n",
       " 'in_reply_to_screen_name': None,\n",
       " 'user': {'id': 794919557832077316,\n",
       "  'id_str': '794919557832077316',\n",
       "  'name': 'ELGEZIT.KG',\n",
       "  'screen_name': 'elgezit',\n",
       "  'location': 'Kyrgyzstan, Bishkek',\n",
       "  'description': 'Аналитика и свежие новости Кыргызстана',\n",
       "  'url': 'https://t.co/JtdKLn5Snw',\n",
       "  'entities': {'url': {'urls': [{'url': 'https://t.co/JtdKLn5Snw',\n",
       "      'expanded_url': 'http://www.elgezit.kg',\n",
       "      'display_url': 'elgezit.kg',\n",
       "      'indices': [0, 23]}]},\n",
       "   'description': {'urls': []}},\n",
       "  'protected': False,\n",
       "  'followers_count': 229,\n",
       "  'friends_count': 1394,\n",
       "  'listed_count': 1,\n",
       "  'created_at': 'Sat Nov 05 15:09:26 +0000 2016',\n",
       "  'favourites_count': 8,\n",
       "  'utc_offset': None,\n",
       "  'time_zone': None,\n",
       "  'geo_enabled': False,\n",
       "  'verified': False,\n",
       "  'statuses_count': 1343,\n",
       "  'lang': None,\n",
       "  'contributors_enabled': False,\n",
       "  'is_translator': False,\n",
       "  'is_translation_enabled': False,\n",
       "  'profile_background_color': 'F5F8FA',\n",
       "  'profile_background_image_url': None,\n",
       "  'profile_background_image_url_https': None,\n",
       "  'profile_background_tile': False,\n",
       "  'profile_image_url': 'http://pbs.twimg.com/profile_images/1088479759846260741/0POx5Bre_normal.jpg',\n",
       "  'profile_image_url_https': 'https://pbs.twimg.com/profile_images/1088479759846260741/0POx5Bre_normal.jpg',\n",
       "  'profile_banner_url': 'https://pbs.twimg.com/profile_banners/794919557832077316/1583135116',\n",
       "  'profile_link_color': '1DA1F2',\n",
       "  'profile_sidebar_border_color': 'C0DEED',\n",
       "  'profile_sidebar_fill_color': 'DDEEF6',\n",
       "  'profile_text_color': '333333',\n",
       "  'profile_use_background_image': True,\n",
       "  'has_extended_profile': False,\n",
       "  'default_profile': True,\n",
       "  'default_profile_image': False,\n",
       "  'following': False,\n",
       "  'follow_request_sent': False,\n",
       "  'notifications': False,\n",
       "  'translator_type': 'none'},\n",
       " 'geo': None,\n",
       " 'coordinates': None,\n",
       " 'place': None,\n",
       " 'contributors': None,\n",
       " 'is_quote_status': False,\n",
       " 'retweet_count': 0,\n",
       " 'favorite_count': 0,\n",
       " 'favorited': False,\n",
       " 'retweeted': False,\n",
       " 'possibly_sensitive': False,\n",
       " 'lang': 'ru'}"
      ]
     },
     "execution_count": 8,
     "metadata": {},
     "output_type": "execute_result"
    }
   ],
   "source": [
    "# View First Tweet\n",
    "public_tweets[\"statuses\"][0]"
   ]
  },
  {
   "cell_type": "code",
   "execution_count": 9,
   "metadata": {},
   "outputs": [],
   "source": [
    "# Export Tweets as JSON file\n",
    "with open(\"kyr_tweet_4-4-20.json\", \"w\") as JSONfile:\n",
    "    json.dump(public_tweets, JSONfile)"
   ]
  },
  {
   "cell_type": "markdown",
   "metadata": {},
   "source": [
    "## Using Twitter API to pull User Information"
   ]
  },
  {
   "cell_type": "code",
   "execution_count": 10,
   "metadata": {},
   "outputs": [],
   "source": [
    "# User Account\n",
    "target = \"Mirsuljan\""
   ]
  },
  {
   "cell_type": "code",
   "execution_count": 11,
   "metadata": {},
   "outputs": [],
   "source": [
    "# Update count as necessary\n",
    "count=100"
   ]
  },
  {
   "cell_type": "code",
   "execution_count": 12,
   "metadata": {},
   "outputs": [],
   "source": [
    "# Function to Pull User's Most recent Tweets\n",
    "user_tweet = api.user_timeline(id=target, tweet_mode='extended', count=count)"
   ]
  },
  {
   "cell_type": "code",
   "execution_count": 13,
   "metadata": {},
   "outputs": [
    {
     "data": {
      "text/plain": [
       "{'created_at': 'Fri Apr 03 02:30:18 +0000 2020',\n",
       " 'id': 1245901410673328128,\n",
       " 'id_str': '1245901410673328128',\n",
       " 'text': '@AzamatTynaev @GulyaAlmambet ага',\n",
       " 'truncated': False,\n",
       " 'entities': {'hashtags': [],\n",
       "  'symbols': [],\n",
       "  'user_mentions': [{'screen_name': 'AzamatTynaev',\n",
       "    'name': 'Азамат Тинаєв 2',\n",
       "    'id': 350135283,\n",
       "    'id_str': '350135283',\n",
       "    'indices': [0, 13]},\n",
       "   {'screen_name': 'GulyaAlmambet',\n",
       "    'name': 'Гуля Алмамбетова',\n",
       "    'id': 760422791292354560,\n",
       "    'id_str': '760422791292354560',\n",
       "    'indices': [14, 28]}],\n",
       "  'urls': []},\n",
       " 'source': '<a href=\"https://mobile.twitter.com\" rel=\"nofollow\">Twitter Web App</a>',\n",
       " 'in_reply_to_status_id': 1245899094599651328,\n",
       " 'in_reply_to_status_id_str': '1245899094599651328',\n",
       " 'in_reply_to_user_id': 350135283,\n",
       " 'in_reply_to_user_id_str': '350135283',\n",
       " 'in_reply_to_screen_name': 'AzamatTynaev',\n",
       " 'user': {'id': 25474404,\n",
       "  'id_str': '25474404',\n",
       "  'name': 'Mirsuljan Namazaaly',\n",
       "  'screen_name': 'Mirsuljan',\n",
       "  'location': 'Kyrgyzstan',\n",
       "  'description': 'Мнения выраженные здесь — мои, а не ваши, не моих партнеров, клиентов, друзей, организаций.',\n",
       "  'url': 'https://t.co/zlr0onHp2i',\n",
       "  'entities': {'url': {'urls': [{'url': 'https://t.co/zlr0onHp2i',\n",
       "      'expanded_url': 'http://facebook.com/mirsuljan',\n",
       "      'display_url': 'facebook.com/mirsuljan',\n",
       "      'indices': [0, 23]}]},\n",
       "   'description': {'urls': []}},\n",
       "  'protected': False,\n",
       "  'followers_count': 6595,\n",
       "  'friends_count': 718,\n",
       "  'listed_count': 119,\n",
       "  'created_at': 'Fri Mar 20 07:08:06 +0000 2009',\n",
       "  'favourites_count': 1656,\n",
       "  'utc_offset': None,\n",
       "  'time_zone': None,\n",
       "  'geo_enabled': True,\n",
       "  'verified': False,\n",
       "  'statuses_count': 23394,\n",
       "  'lang': None,\n",
       "  'contributors_enabled': False,\n",
       "  'is_translator': False,\n",
       "  'is_translation_enabled': False,\n",
       "  'profile_background_color': '8B542B',\n",
       "  'profile_background_image_url': 'http://abs.twimg.com/images/themes/theme8/bg.gif',\n",
       "  'profile_background_image_url_https': 'https://abs.twimg.com/images/themes/theme8/bg.gif',\n",
       "  'profile_background_tile': True,\n",
       "  'profile_image_url': 'http://pbs.twimg.com/profile_images/1109137994185916416/v0-T0sm-_normal.png',\n",
       "  'profile_image_url_https': 'https://pbs.twimg.com/profile_images/1109137994185916416/v0-T0sm-_normal.png',\n",
       "  'profile_banner_url': 'https://pbs.twimg.com/profile_banners/25474404/1502186440',\n",
       "  'profile_link_color': '9D582E',\n",
       "  'profile_sidebar_border_color': 'FFFFFF',\n",
       "  'profile_sidebar_fill_color': 'EADEAA',\n",
       "  'profile_text_color': '333333',\n",
       "  'profile_use_background_image': True,\n",
       "  'has_extended_profile': True,\n",
       "  'default_profile': False,\n",
       "  'default_profile_image': False,\n",
       "  'following': False,\n",
       "  'follow_request_sent': False,\n",
       "  'notifications': False,\n",
       "  'translator_type': 'none'},\n",
       " 'geo': None,\n",
       " 'coordinates': None,\n",
       " 'place': None,\n",
       " 'contributors': None,\n",
       " 'is_quote_status': False,\n",
       " 'retweet_count': 0,\n",
       " 'favorite_count': 0,\n",
       " 'favorited': False,\n",
       " 'retweeted': False,\n",
       " 'lang': 'ru'}"
      ]
     },
     "execution_count": 13,
     "metadata": {},
     "output_type": "execute_result"
    }
   ],
   "source": [
    "# View Most recent tweet\n",
    "user_tweet[0]"
   ]
  },
  {
   "cell_type": "code",
   "execution_count": 14,
   "metadata": {},
   "outputs": [],
   "source": [
    "# Export Tweets as JSON file\n",
    "with open(\"Mirsuljan_tweet_4-4-20_9-20PM.json\", \"w\") as JSONfile:\n",
    "    json.dump(user_tweet, JSONfile)"
   ]
  },
  {
   "cell_type": "markdown",
   "metadata": {},
   "source": [
    "## Using Twitter API to pull User Followers"
   ]
  },
  {
   "cell_type": "code",
   "execution_count": null,
   "metadata": {},
   "outputs": [],
   "source": [
    "# User Account\n",
    "target = \"Honey_in_Blue\""
   ]
  },
  {
   "cell_type": "code",
   "execution_count": null,
   "metadata": {},
   "outputs": [],
   "source": [
    "# Pull Followers\n",
    "followers = []\n",
    "f = api.followers(target)"
   ]
  },
  {
   "cell_type": "markdown",
   "metadata": {},
   "source": [
    "The above code for pulling followers works; however, it only pulls the most recent six users. Potential area to look into."
   ]
  },
  {
   "cell_type": "code",
   "execution_count": null,
   "metadata": {},
   "outputs": [],
   "source": []
  }
 ],
 "metadata": {
  "kernelspec": {
   "display_name": "Python 3",
   "language": "python",
   "name": "python3"
  },
  "language_info": {
   "codemirror_mode": {
    "name": "ipython",
    "version": 3
   },
   "file_extension": ".py",
   "mimetype": "text/x-python",
   "name": "python",
   "nbconvert_exporter": "python",
   "pygments_lexer": "ipython3",
   "version": "3.7.3"
  },
  "toc": {
   "base_numbering": 1,
   "nav_menu": {},
   "number_sections": false,
   "sideBar": true,
   "skip_h1_title": false,
   "title_cell": "Table of Contents",
   "title_sidebar": "Contents",
   "toc_cell": false,
   "toc_position": {
    "height": "calc(100% - 180px)",
    "left": "10px",
    "top": "150px",
    "width": "264.796875px"
   },
   "toc_section_display": true,
   "toc_window_display": true
  }
 },
 "nbformat": 4,
 "nbformat_minor": 2
}
